{
 "cells": [
  {
   "cell_type": "code",
   "execution_count": null,
   "metadata": {},
   "outputs": [],
   "source": [
    "while True: \n",
    "    shape=input('Choose a shape (triangle, rectangle, circle): ')\n",
    "    if shape=='triangle': \n",
    "        base=input('Give base of the triangle: ')\n",
    "        height=input('Give height of the triangle: ')\n",
    "        print(f'The area is {1/2*float(base)*float(height)}')\n",
    "    elif shape=='rectangle': \n",
    "        width=input('Give width of the rectangle: ')\n",
    "        height=input('Give height of the rectangle: ')\n",
    "        print(f'The area is {float(width)*float(height)}')\n",
    "    elif shape=='circle': \n",
    "        import numpy as np \n",
    "        radius=input('Give radius of the circle: ')\n",
    "        print(f'The area is {float(radius)**2*np.pi}')\n",
    "    elif len(shape)==0:\n",
    "        break \n",
    "    else:\n",
    "        print('Unknown shape!')"
   ]
  }
 ],
 "metadata": {
  "kernelspec": {
   "display_name": "Python 3",
   "language": "python",
   "name": "python3"
  },
  "language_info": {
   "codemirror_mode": {
    "name": "ipython",
    "version": 3
   },
   "file_extension": ".py",
   "mimetype": "text/x-python",
   "name": "python",
   "nbconvert_exporter": "python",
   "pygments_lexer": "ipython3",
   "version": "3.8.10"
  }
 },
 "nbformat": 4,
 "nbformat_minor": 4
}
